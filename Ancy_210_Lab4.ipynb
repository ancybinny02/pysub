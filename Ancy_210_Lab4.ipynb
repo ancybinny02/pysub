{
 "cells": [
  {
   "cell_type": "markdown",
   "id": "ea979dc4",
   "metadata": {},
   "source": [
    "<center>LAB 4</center>"
   ]
  },
  {
   "cell_type": "markdown",
   "id": "2444566b",
   "metadata": {},
   "source": [
    "<center>2347210</center>"
   ]
  },
  {
   "cell_type": "markdown",
   "id": "ebfb9306",
   "metadata": {},
   "source": [
    "Write a Python program to implement the object-oriented concepts of multiple, Multilevel and Hierarchical Inheritances using your domain applications."
   ]
  },
  {
   "cell_type": "markdown",
   "id": "090e6091",
   "metadata": {},
   "source": [
    "DOMAIN: Netflix Movie Recommendation System."
   ]
  },
  {
   "cell_type": "markdown",
   "id": "08db84c7",
   "metadata": {},
   "source": [
    "# Multiple Inheritance"
   ]
  },
  {
   "cell_type": "markdown",
   "id": "2b2814c8",
   "metadata": {},
   "source": [
    "Multiple inheritance is said to occur when a class has two or more base (or parent) classes."
   ]
  },
  {
   "cell_type": "code",
   "execution_count": 36,
   "id": "f3eba680",
   "metadata": {},
   "outputs": [
    {
     "name": "stdout",
     "output_type": "stream",
     "text": [
      "Recommendations for Alice based on Comedy:\n",
      "No recommendations available.\n",
      "Recommendations for Alice based on Drama:\n",
      "No recommendations available.\n"
     ]
    }
   ],
   "source": [
    "class User:\n",
    "    def __init__(self, name):\n",
    "        self.name = name\n",
    "        self.preferences = {}\n",
    "\n",
    "    def set_preference(self, genre, rating):\n",
    "        self.preferences[genre] = rating\n",
    "\n",
    "class MovieGenre:\n",
    "    def __init__(self, genre):\n",
    "        self.genre = genre\n",
    "        self.movies = []\n",
    "\n",
    "    def add_movie(self, movie):\n",
    "        self.movies.append(movie)\n",
    "\n",
    "class Movie:\n",
    "    def __init__(self, title, genre):\n",
    "        self.title = title\n",
    "        self.genre = genre\n",
    "\n",
    "class MovieRecommendationSystem(User, MovieGenre):\n",
    "    def __init__(self, user, genre):\n",
    "        User.__init__(self, user)\n",
    "        MovieGenre.__init__(self, genre)\n",
    "        self.recommendations = []\n",
    "\n",
    "    def generate_recommendations(self):\n",
    "        for movie in self.movies:\n",
    "            if movie.genre == self.genre and self.preferences.get(self.genre, 0) >= 3:\n",
    "                self.recommendations.append(movie)\n",
    "\n",
    "    def display_recommendations(self):\n",
    "        print(f\"Recommendations for {self.name} based on {self.genre}:\")\n",
    "        if self.recommendations:\n",
    "            for movie in self.recommendations:\n",
    "                print(movie.title)\n",
    "        else:\n",
    "            print(\"No recommendations available.\")\n",
    "\n",
    "\n",
    "user1 = User(\"Alice\")\n",
    "user1.set_preference(\"Comedy\", 4)\n",
    "user1.set_preference(\"Drama\", 3)\n",
    "\n",
    "\n",
    "comedy_genre = MovieGenre(\"Comedy\")\n",
    "comedy_genre.add_movie(Movie(\"MovieA\", \"Comedy\"))\n",
    "comedy_genre.add_movie(Movie(\"MovieB\", \"Comedy\"))\n",
    "\n",
    "drama_genre = MovieGenre(\"Drama\")\n",
    "drama_genre.add_movie(Movie(\"MovieC\", \"Drama\"))\n",
    "drama_genre.add_movie(Movie(\"MovieD\", \"Drama\"))\n",
    "\n",
    "\n",
    "recommendation_system1 = MovieRecommendationSystem(user1.name, \"Comedy\")\n",
    "recommendation_system1.generate_recommendations()\n",
    "recommendation_system1.display_recommendations()\n",
    "\n",
    "recommendation_system2 = MovieRecommendationSystem(user1.name, \"Drama\")\n",
    "recommendation_system2.generate_recommendations()\n",
    "recommendation_system2.display_recommendations()"
   ]
  },
  {
   "cell_type": "code",
   "execution_count": 1,
   "id": "e52845d7",
   "metadata": {},
   "outputs": [],
   "source": [
    "# is creating an error"
   ]
  },
  {
   "cell_type": "markdown",
   "id": "cc9ca833",
   "metadata": {},
   "source": [
    "# Multi-level Inheritance"
   ]
  },
  {
   "cell_type": "markdown",
   "id": "2a1c2371",
   "metadata": {},
   "source": [
    "Multi-level Inheritance occurs when a class inherits the properties of its parents class, who also inherits properties from its own parent class."
   ]
  },
  {
   "cell_type": "code",
   "execution_count": 37,
   "id": "fe334e94",
   "metadata": {},
   "outputs": [
    {
     "name": "stdout",
     "output_type": "stream",
     "text": [
      "Title: Movie A, Release Year: 2020, Rating: 4.5\n",
      "Title: Movie B, Release Year: 2018, Rating: 4.0, Genre: Action\n",
      "User: John, Age: 25, Title: Movie C, Release Year: 2022, Rating: 3.8, Genre: Drama\n"
     ]
    }
   ],
   "source": [
    "class Movie:\n",
    "    def __init__(self, title, release_year, rating):\n",
    "        self.title = title\n",
    "        self.release_year = release_year\n",
    "        self.rating = rating\n",
    "\n",
    "    def get_details(self):\n",
    "        return f\"Title: {self.title}, Release Year: {self.release_year}, Rating: {self.rating}\"\n",
    "\n",
    "\n",
    "class Genre(Movie):\n",
    "    def __init__(self, title, release_year, rating, genre):\n",
    "        super().__init__(title, release_year, rating)\n",
    "        self.genre = genre\n",
    "\n",
    "    def get_details(self):\n",
    "        return f\"Title: {self.title}, Release Year: {self.release_year}, Rating: {self.rating}, Genre: {self.genre}\"\n",
    "\n",
    "\n",
    "class User(Genre):\n",
    "    def __init__(self, name, age, title, release_year, rating, genre):\n",
    "        super().__init__(title, release_year, rating, genre)\n",
    "        self.name = name\n",
    "        self.age = age\n",
    "\n",
    "    def get_details(self):\n",
    "        return f\"User: {self.name}, Age: {self.age}, Title: {self.title}, Release Year: {self.release_year}, Rating: {self.rating}, Genre: {self.genre}\"\n",
    "\n",
    "\n",
    "\n",
    "movie1 = Movie(\"Movie A\", 2020, 4.5)\n",
    "genre1 = Genre(\"Movie B\", 2018, 4.0, \"Action\")\n",
    "user1 = User(\"John\", 25, \"Movie C\", 2022, 3.8, \"Drama\")\n",
    "\n",
    "\n",
    "print(movie1.get_details())\n",
    "print(genre1.get_details())\n",
    "print(user1.get_details())\n"
   ]
  },
  {
   "cell_type": "markdown",
   "id": "e513f7f2",
   "metadata": {},
   "source": [
    "# Hierarchical Inheritance"
   ]
  },
  {
   "cell_type": "markdown",
   "id": "9a29c57a",
   "metadata": {},
   "source": [
    "When one or more derived classes are created out of a single base class, we can call it Hierarchical Inheritance."
   ]
  },
  {
   "cell_type": "code",
   "execution_count": 38,
   "id": "8d99bd29",
   "metadata": {},
   "outputs": [
    {
     "name": "stdout",
     "output_type": "stream",
     "text": [
      "User1 watched Movie 1\n",
      "User2 watched Movie 2\n",
      "Fetching recommendations for User1\n",
      "Recommended movies for User1: Recommended Movie 1, Recommended Movie 2\n",
      "Movie 1 added to User2's watchlist\n",
      "User1's watched movies: Movie 1\n",
      "User2's watchlist: Movie 1\n"
     ]
    }
   ],
   "source": [
    "class User:\n",
    "    def __init__(self, username):\n",
    "        self.username = username\n",
    "        self.watched_movies = []\n",
    "\n",
    "    def watch_movie(self, movie):\n",
    "        self.watched_movies.append(movie)\n",
    "        print(f\"{self.username} watched {movie.title}\")\n",
    "\n",
    "class BasicUser(User):\n",
    "    def __init__(self, username):\n",
    "        super().__init__(username)\n",
    "        self.recommendations = []\n",
    "\n",
    "    def get_recommendations(self):\n",
    "        print(f\"Fetching recommendations for {self.username}\")\n",
    "        \n",
    "        self.recommendations = [\"Recommended Movie 1\", \"Recommended Movie 2\"]\n",
    "        print(f\"Recommended movies for {self.username}: {', '.join(self.recommendations)}\")\n",
    "\n",
    "class PremiumUser(User):\n",
    "    def __init__(self, username):\n",
    "        super().__init__(username)\n",
    "        self.watchlist = []\n",
    "\n",
    "    def add_to_watchlist(self, movie):\n",
    "        self.watchlist.append(movie)\n",
    "        print(f\"{movie.title} added to {self.username}'s watchlist\")\n",
    "\n",
    "\n",
    "class Movie:\n",
    "    def __init__(self, title):\n",
    "        self.title = title\n",
    "\n",
    "\n",
    "user1 = BasicUser(\"User1\")\n",
    "user2 = PremiumUser(\"User2\")\n",
    "\n",
    "movie1 = Movie(\"Movie 1\")\n",
    "movie2 = Movie(\"Movie 2\")\n",
    "\n",
    "user1.watch_movie(movie1)\n",
    "user2.watch_movie(movie2)\n",
    "\n",
    "user1.get_recommendations()\n",
    "user2.add_to_watchlist(movie1)\n",
    "\n",
    "print(f\"{user1.username}'s watched movies: {', '.join(movie.title for movie in user1.watched_movies)}\")\n",
    "print(f\"{user2.username}'s watchlist: {', '.join(movie.title for movie in user2.watchlist)}\")\n"
   ]
  }
 ],
 "metadata": {
  "kernelspec": {
   "display_name": "Python 3 (ipykernel)",
   "language": "python",
   "name": "python3"
  },
  "language_info": {
   "codemirror_mode": {
    "name": "ipython",
    "version": 3
   },
   "file_extension": ".py",
   "mimetype": "text/x-python",
   "name": "python",
   "nbconvert_exporter": "python",
   "pygments_lexer": "ipython3",
   "version": "3.9.13"
  },
  "toc": {
   "base_numbering": 1,
   "nav_menu": {},
   "number_sections": true,
   "sideBar": true,
   "skip_h1_title": false,
   "title_cell": "Table of Contents",
   "title_sidebar": "Contents",
   "toc_cell": false,
   "toc_position": {},
   "toc_section_display": true,
   "toc_window_display": false
  }
 },
 "nbformat": 4,
 "nbformat_minor": 5
}
