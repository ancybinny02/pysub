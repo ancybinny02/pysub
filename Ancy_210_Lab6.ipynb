{
 "cells": [
  {
   "cell_type": "markdown",
   "id": "f570076c",
   "metadata": {},
   "source": [
    "<center>LAB 6</center>"
   ]
  },
  {
   "cell_type": "markdown",
   "id": "aaf2faf3",
   "metadata": {},
   "source": [
    "<CENTER>2347210<CENTER>"
   ]
  },
  {
   "cell_type": "markdown",
   "id": "f8db4c54",
   "metadata": {},
   "source": [
    "<b> DOMAIN: </b> Netflix Movie Recommendation System"
   ]
  },
  {
   "cell_type": "markdown",
   "id": "ac7ef83e",
   "metadata": {},
   "source": [
    "# Write a program using the Regular Exception and create a function that accepts a string and searches it for a valid phone number.\n",
    "\n",
    "Return the phone number if found."
   ]
  },
  {
   "cell_type": "code",
   "execution_count": 1,
   "id": "c8c8e83b",
   "metadata": {},
   "outputs": [],
   "source": [
    "import re"
   ]
  },
  {
   "cell_type": "code",
   "execution_count": 19,
   "id": "25972a94",
   "metadata": {},
   "outputs": [],
   "source": [
    "def numbersearch(text):\n",
    "    #in the pattern, \\b indicates boundary between a word character(letter/char) and a non-word character(digits/special symbols). used to ensure that it is not part of a bigger string.\n",
    "    #\\d (short-hand character) matches any digits (0-9). \\d{3} matches 3 digits, - matches the hyphens in between and this \\d{3} format is continued for the pattern.\n",
    "    pattern1 = r\"\\b\\d{3}-\\d{3}-\\d{4}\\b\"\n",
    "    phone_numbers = re.findall(pattern1, text)\n",
    "    return phone_numbers"
   ]
  },
  {
   "cell_type": "code",
   "execution_count": 20,
   "id": "ecf0a2c2",
   "metadata": {},
   "outputs": [
    {
     "name": "stdout",
     "output_type": "stream",
     "text": [
      "Enter the string: Hi Jenny 879-485-9878\n",
      "['879-485-9878']\n"
     ]
    }
   ],
   "source": [
    "textin=input(\"Enter the string: \")\n",
    "phone=numbersearch(textin)\n",
    "print(phone)"
   ]
  },
  {
   "cell_type": "markdown",
   "id": "637e963f",
   "metadata": {},
   "source": [
    "# . Write a function that employs regular expressions to ensure the password given to the function is strong.\n",
    "A strong password is defined as follows:\n",
    "\n",
    "·       at least eight characters long\n",
    "\n",
    "·       contains one uppercase character\n",
    "\n",
    "·       contains one lowercase character\n",
    "\n",
    "·       has at least one digit\n",
    "\n",
    "·       has at least one special character\n",
    "\n",
    "[For instance: Christ@123]\n"
   ]
  },
  {
   "cell_type": "code",
   "execution_count": 21,
   "id": "516c3ca0",
   "metadata": {},
   "outputs": [],
   "source": [
    "def passwordstrength(password):\n",
    "    pattern = r\"^(?=.*\\d)(?=.*[a-z])(?=.*[A-Z]).{8,}$\"\n",
    "    match = re.match(pattern, password)\n",
    "    return bool(match)"
   ]
  },
  {
   "cell_type": "code",
   "execution_count": 26,
   "id": "d8704897",
   "metadata": {},
   "outputs": [
    {
     "name": "stdout",
     "output_type": "stream",
     "text": [
      "Enter your password: Christ@123\n",
      "Your password is strong!\n"
     ]
    }
   ],
   "source": [
    "password=input(\"Enter your password: \")\n",
    "if(passwordstrength(password)==True):\n",
    "    print(\"Your password is strong!\")\n",
    "else:\n",
    "    print(\"Weak password! Please change.\")"
   ]
  }
 ],
 "metadata": {
  "kernelspec": {
   "display_name": "Python 3 (ipykernel)",
   "language": "python",
   "name": "python3"
  },
  "language_info": {
   "codemirror_mode": {
    "name": "ipython",
    "version": 3
   },
   "file_extension": ".py",
   "mimetype": "text/x-python",
   "name": "python",
   "nbconvert_exporter": "python",
   "pygments_lexer": "ipython3",
   "version": "3.9.13"
  },
  "toc": {
   "base_numbering": 1,
   "nav_menu": {},
   "number_sections": true,
   "sideBar": true,
   "skip_h1_title": false,
   "title_cell": "Table of Contents",
   "title_sidebar": "Contents",
   "toc_cell": false,
   "toc_position": {},
   "toc_section_display": true,
   "toc_window_display": false
  }
 },
 "nbformat": 4,
 "nbformat_minor": 5
}
