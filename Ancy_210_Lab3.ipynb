{
 "cells": [
  {
   "cell_type": "markdown",
   "id": "1857f12b",
   "metadata": {},
   "source": [
    "<center>LAB 3<center>"
   ]
  },
  {
   "cell_type": "markdown",
   "id": "d8f40f92",
   "metadata": {},
   "source": [
    "<center>2347210</center>"
   ]
  },
  {
   "cell_type": "markdown",
   "id": "28c4deed",
   "metadata": {},
   "source": [
    "Write a function in Python with a string such that it accepts a parameter- “stringsplit”. This encoded string will contain your name, domain name and register number. You can separate the values in the string by any number of underscores. [The string should not contain any other underscore symbols in your name, domain name and register number]. The function should return a Python dictionary with your name, domain name and register number._\n",
    "\n",
    "For example, if the input would be \" Aaron___Googleplaystore____2347201”. Then the function should return the output as follows:\n",
    "\n",
    "{ \"name\": \" Aaron \",\n",
    "\"Domain_name\": \" Googleplaystore \",\n",
    "\"Regno\": \"2347201\" }"
   ]
  },
  {
   "cell_type": "code",
   "execution_count": 23,
   "id": "85fef389",
   "metadata": {},
   "outputs": [],
   "source": [
    "def splittingofstring(stringsplit):\n",
    "    splittext = stringsplit.split('__') #splits the words between '__'\n",
    "   \n",
    "    str_dict = {                        #formation of the dictionary by indexing\n",
    "        \"name\": splittext[0],\n",
    "        \"Domain_name\": splittext[1],\n",
    "        \"Regno\": splittext[2]\n",
    "    }\n",
    "    \n",
    "    return str_dict"
   ]
  },
  {
   "cell_type": "code",
   "execution_count": 25,
   "id": "48bc8a2d",
   "metadata": {},
   "outputs": [
    {
     "name": "stdout",
     "output_type": "stream",
     "text": [
      "Enter the string: Ancy__NetflixMovieRecom__2347210\n"
     ]
    },
    {
     "data": {
      "text/plain": [
       "{'name': 'Ancy', 'Domain_name': 'NetflixMovieRecom', 'Regno': '2347210'}"
      ]
     },
     "execution_count": 25,
     "metadata": {},
     "output_type": "execute_result"
    }
   ],
   "source": [
    "text =input(\"Enter the string: \")\n",
    "\n",
    "finaloutput = splittingofstring(text)\n",
    "finaloutput"
   ]
  }
 ],
 "metadata": {
  "kernelspec": {
   "display_name": "Python 3 (ipykernel)",
   "language": "python",
   "name": "python3"
  },
  "language_info": {
   "codemirror_mode": {
    "name": "ipython",
    "version": 3
   },
   "file_extension": ".py",
   "mimetype": "text/x-python",
   "name": "python",
   "nbconvert_exporter": "python",
   "pygments_lexer": "ipython3",
   "version": "3.9.13"
  },
  "toc": {
   "base_numbering": 1,
   "nav_menu": {},
   "number_sections": true,
   "sideBar": true,
   "skip_h1_title": false,
   "title_cell": "Table of Contents",
   "title_sidebar": "Contents",
   "toc_cell": false,
   "toc_position": {},
   "toc_section_display": true,
   "toc_window_display": false
  }
 },
 "nbformat": 4,
 "nbformat_minor": 5
}
