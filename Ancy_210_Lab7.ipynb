{
 "cells": [
  {
   "cell_type": "markdown",
   "id": "796f04f9",
   "metadata": {},
   "source": [
    "<center>LAB 7</center>"
   ]
  },
  {
   "cell_type": "markdown",
   "id": "40a49fd1",
   "metadata": {},
   "source": [
    "<CENTER>2347210<CENTER>"
   ]
  },
  {
   "cell_type": "markdown",
   "id": "1a62a8b3",
   "metadata": {},
   "source": [
    "# Create two 3×3 matrices using the random function in Numpy and perform the following operations."
   ]
  },
  {
   "cell_type": "code",
   "execution_count": 3,
   "id": "23f64f94",
   "metadata": {},
   "outputs": [],
   "source": [
    "import numpy as np"
   ]
  },
  {
   "cell_type": "code",
   "execution_count": 28,
   "id": "3db0111b",
   "metadata": {},
   "outputs": [
    {
     "name": "stdout",
     "output_type": "stream",
     "text": [
      "A: \n"
     ]
    },
    {
     "data": {
      "text/plain": [
       "array([[4, 3, 0],\n",
       "       [7, 7, 2],\n",
       "       [1, 7, 8]])"
      ]
     },
     "metadata": {},
     "output_type": "display_data"
    },
    {
     "name": "stdout",
     "output_type": "stream",
     "text": [
      "B: \n"
     ]
    },
    {
     "data": {
      "text/plain": [
       "array([[2, 1, 0],\n",
       "       [1, 4, 8],\n",
       "       [6, 0, 6]])"
      ]
     },
     "metadata": {},
     "output_type": "display_data"
    }
   ],
   "source": [
    "A=np.random.randint(0,9,size=(3,3),dtype=int)\n",
    "B=np.random.randint(0,9,size=(3,3),dtype=int)\n",
    "print(\"A: \")\n",
    "display(A)\n",
    "print(\"B: \")\n",
    "display(B)"
   ]
  },
  {
   "cell_type": "markdown",
   "id": "600c6669",
   "metadata": {},
   "source": [
    "1. Product (prod)"
   ]
  },
  {
   "cell_type": "code",
   "execution_count": 29,
   "id": "9a6155f0",
   "metadata": {},
   "outputs": [
    {
     "data": {
      "text/plain": [
       "array([[ 8,  3,  0],\n",
       "       [ 7, 28, 16],\n",
       "       [ 6,  0, 48]])"
      ]
     },
     "execution_count": 29,
     "metadata": {},
     "output_type": "execute_result"
    }
   ],
   "source": [
    "A*B"
   ]
  },
  {
   "cell_type": "markdown",
   "id": "eed648f2",
   "metadata": {},
   "source": [
    "2. Multiplication (multiply)"
   ]
  },
  {
   "cell_type": "code",
   "execution_count": 30,
   "id": "738980c6",
   "metadata": {},
   "outputs": [
    {
     "data": {
      "text/plain": [
       "array([[ 8,  3,  0],\n",
       "       [ 7, 28, 16],\n",
       "       [ 6,  0, 48]])"
      ]
     },
     "execution_count": 30,
     "metadata": {},
     "output_type": "execute_result"
    }
   ],
   "source": [
    "np.multiply(A,B)"
   ]
  },
  {
   "cell_type": "markdown",
   "id": "43b3536e",
   "metadata": {},
   "source": [
    "3. Dot Product (dot)"
   ]
  },
  {
   "cell_type": "code",
   "execution_count": 31,
   "id": "c6477853",
   "metadata": {},
   "outputs": [
    {
     "data": {
      "text/plain": [
       "array([[ 11,  16,  24],\n",
       "       [ 33,  35,  68],\n",
       "       [ 57,  29, 104]])"
      ]
     },
     "execution_count": 31,
     "metadata": {},
     "output_type": "execute_result"
    }
   ],
   "source": [
    "np.dot(A,B)"
   ]
  },
  {
   "cell_type": "markdown",
   "id": "5a4f4eca",
   "metadata": {},
   "source": [
    "#  Perform the following set operations using the Numpy functions."
   ]
  },
  {
   "cell_type": "code",
   "execution_count": 59,
   "id": "e29c77aa",
   "metadata": {},
   "outputs": [
    {
     "name": "stdout",
     "output_type": "stream",
     "text": [
      "C:  [[2 5 5 1 3 6 0 4]]\n",
      "D:  [[8 0 3 3 3 4 2 2]]\n"
     ]
    }
   ],
   "source": [
    "C=np.random.randint(0,9,size=(1,8),dtype=int)\n",
    "D=np.random.randint(0,9,size=(1,8),dtype=int)\n",
    "print(\"C: \",C)\n",
    "print(\"D: \",D)"
   ]
  },
  {
   "cell_type": "markdown",
   "id": "1207e779",
   "metadata": {},
   "source": [
    "1. Union\n"
   ]
  },
  {
   "cell_type": "code",
   "execution_count": 60,
   "id": "2db9ba50",
   "metadata": {},
   "outputs": [
    {
     "data": {
      "text/plain": [
       "array([0, 1, 2, 3, 4, 5, 6, 8])"
      ]
     },
     "execution_count": 60,
     "metadata": {},
     "output_type": "execute_result"
    }
   ],
   "source": [
    "np.union1d(C,D)"
   ]
  },
  {
   "cell_type": "markdown",
   "id": "3abd4a52",
   "metadata": {},
   "source": [
    "2. Intersection"
   ]
  },
  {
   "cell_type": "code",
   "execution_count": 61,
   "id": "b3a037a1",
   "metadata": {},
   "outputs": [
    {
     "data": {
      "text/plain": [
       "array([0, 2, 3, 4])"
      ]
     },
     "execution_count": 61,
     "metadata": {},
     "output_type": "execute_result"
    }
   ],
   "source": [
    "np.intersect1d(C,D)"
   ]
  },
  {
   "cell_type": "markdown",
   "id": "39fc8d31",
   "metadata": {},
   "source": [
    "3. Set difference"
   ]
  },
  {
   "cell_type": "code",
   "execution_count": 63,
   "id": "89696f3a",
   "metadata": {},
   "outputs": [
    {
     "data": {
      "text/plain": [
       "array([1, 5, 6])"
      ]
     },
     "execution_count": 63,
     "metadata": {},
     "output_type": "execute_result"
    }
   ],
   "source": [
    "np.setdiff1d(C,D)"
   ]
  },
  {
   "cell_type": "markdown",
   "id": "2a1f2fed",
   "metadata": {},
   "source": [
    "4. XOR"
   ]
  },
  {
   "cell_type": "code",
   "execution_count": 64,
   "id": "4eef90fd",
   "metadata": {},
   "outputs": [
    {
     "data": {
      "text/plain": [
       "array([1, 5, 6, 8])"
      ]
     },
     "execution_count": 64,
     "metadata": {},
     "output_type": "execute_result"
    }
   ],
   "source": [
    "np.setxor1d(C,D)"
   ]
  },
  {
   "cell_type": "markdown",
   "id": "d8552aa9",
   "metadata": {},
   "source": [
    "# Create a 1D array using Random function and perform the following operations."
   ]
  },
  {
   "cell_type": "code",
   "execution_count": 72,
   "id": "f6495574",
   "metadata": {},
   "outputs": [
    {
     "name": "stdout",
     "output_type": "stream",
     "text": [
      "E:  [[4 7 7 2 4 3 3 6]]\n"
     ]
    }
   ],
   "source": [
    "E=np.random.randint(0,9,size=(1,8),dtype=int)\n",
    "print(\"E: \", E)"
   ]
  },
  {
   "cell_type": "markdown",
   "id": "b273e89b",
   "metadata": {},
   "source": [
    "1. Cumulative sum"
   ]
  },
  {
   "cell_type": "code",
   "execution_count": 73,
   "id": "30fb414a",
   "metadata": {},
   "outputs": [
    {
     "data": {
      "text/plain": [
       "array([ 4, 11, 18, 20, 24, 27, 30, 36], dtype=int32)"
      ]
     },
     "execution_count": 73,
     "metadata": {},
     "output_type": "execute_result"
    }
   ],
   "source": [
    "np.cumsum(E)"
   ]
  },
  {
   "cell_type": "markdown",
   "id": "30460db7",
   "metadata": {},
   "source": [
    "2. Cumulative Product"
   ]
  },
  {
   "cell_type": "code",
   "execution_count": 74,
   "id": "29ab4231",
   "metadata": {},
   "outputs": [
    {
     "data": {
      "text/plain": [
       "array([    4,    28,   196,   392,  1568,  4704, 14112, 84672],\n",
       "      dtype=int32)"
      ]
     },
     "execution_count": 74,
     "metadata": {},
     "output_type": "execute_result"
    }
   ],
   "source": [
    "np.cumprod(E)"
   ]
  },
  {
   "cell_type": "markdown",
   "id": "ccd9654b",
   "metadata": {},
   "source": [
    "3. Discrete difference (with n=3)"
   ]
  },
  {
   "cell_type": "code",
   "execution_count": 80,
   "id": "0880eefa",
   "metadata": {},
   "outputs": [
    {
     "data": {
      "text/plain": [
       "array([[ -2,  12, -10,   4,   2]])"
      ]
     },
     "execution_count": 80,
     "metadata": {},
     "output_type": "execute_result"
    }
   ],
   "source": [
    "np.diff(E, n=3)"
   ]
  },
  {
   "cell_type": "markdown",
   "id": "6da0343f",
   "metadata": {},
   "source": [
    "4. Find the unique elements from the array"
   ]
  },
  {
   "cell_type": "code",
   "execution_count": 84,
   "id": "8550dbc4",
   "metadata": {},
   "outputs": [
    {
     "name": "stdout",
     "output_type": "stream",
     "text": [
      "F:  [2 3 4 6 7]\n"
     ]
    }
   ],
   "source": [
    "F=np.unique(E)\n",
    "print(\"F: \", F)"
   ]
  },
  {
   "cell_type": "markdown",
   "id": "ed61b916",
   "metadata": {},
   "source": [
    "# Create two 1D array and perform the Addition using zip(), add() and user defined function (frompyfunc())"
   ]
  },
  {
   "cell_type": "code",
   "execution_count": 92,
   "id": "aa808e67",
   "metadata": {},
   "outputs": [],
   "source": [
    "G=np.random.randint(0,9,size=(1,8),dtype=int)\n",
    "H=np.random.randint(0,9,size=(1,8),dtype=int)"
   ]
  },
  {
   "cell_type": "code",
   "execution_count": 95,
   "id": "bf5e719f",
   "metadata": {},
   "outputs": [
    {
     "name": "stdout",
     "output_type": "stream",
     "text": [
      "G: [[2 4 4 7 1 5 0 6]]\n",
      "H: [[3 6 4 4 6 2 2 1]]\n",
      "Using zip(): [array([ 5, 10,  8, 11,  7,  7,  2,  7])]\n",
      "Using add() function: [[ 5 10  8 11  7  7  2  7]]\n",
      "Using custom function (frompyfunc()): [[5 10 8 11 7 7 2 7]]\n"
     ]
    }
   ],
   "source": [
    "result_zip = [x + y for x, y in zip(G, H)]\n",
    "\n",
    "result_add = np.add(G, H)\n",
    "\n",
    "addition_func = np.frompyfunc(lambda x, y: x + y, 2, 1)\n",
    "result_custom = addition_func(G, H)\n",
    "\n",
    "print(\"G:\", G)\n",
    "print(\"H:\", H)\n",
    "print(\"Using zip():\", result_zip)\n",
    "print(\"Using add() function:\", result_add)\n",
    "print(\"Using custom function (frompyfunc()):\", result_custom)\n"
   ]
  },
  {
   "cell_type": "markdown",
   "id": "11e9a8b7",
   "metadata": {},
   "source": [
    "#  Find the LCM (Least Common Multiple) and GCD (Greatest Common Divisor) of an array of elements using reduce().\n"
   ]
  },
  {
   "cell_type": "code",
   "execution_count": 99,
   "id": "3a38a3c7",
   "metadata": {},
   "outputs": [
    {
     "name": "stdout",
     "output_type": "stream",
     "text": [
      "Array: [12, 18, 24, 36]\n",
      "LCM of the array elements: 72\n",
      "GCD of the array elements: 6\n"
     ]
    }
   ],
   "source": [
    "from functools import reduce\n",
    "import math\n",
    "\n",
    "def lcm(x, y):\n",
    "    return x * y // math.gcd(x, y)\n",
    "\n",
    "def gcd(x, y):\n",
    "    return math.gcd(x, y)\n",
    "\n",
    "arr = [12, 18, 24, 36]\n",
    "\n",
    "lcm_result = reduce(lcm, arr)\n",
    "\n",
    "gcd_result = reduce(gcd, arr)\n",
    "\n",
    "print(\"Array:\", arr)\n",
    "print(\"LCM of the array elements:\", lcm_result)\n",
    "print(\"GCD of the array elements:\", gcd_result)"
   ]
  }
 ],
 "metadata": {
  "kernelspec": {
   "display_name": "Python 3 (ipykernel)",
   "language": "python",
   "name": "python3"
  },
  "language_info": {
   "codemirror_mode": {
    "name": "ipython",
    "version": 3
   },
   "file_extension": ".py",
   "mimetype": "text/x-python",
   "name": "python",
   "nbconvert_exporter": "python",
   "pygments_lexer": "ipython3",
   "version": "3.9.13"
  },
  "toc": {
   "base_numbering": 1,
   "nav_menu": {},
   "number_sections": true,
   "sideBar": true,
   "skip_h1_title": false,
   "title_cell": "Table of Contents",
   "title_sidebar": "Contents",
   "toc_cell": false,
   "toc_position": {
    "height": "calc(100% - 180px)",
    "left": "10px",
    "top": "150px",
    "width": "248.4px"
   },
   "toc_section_display": true,
   "toc_window_display": true
  }
 },
 "nbformat": 4,
 "nbformat_minor": 5
}
