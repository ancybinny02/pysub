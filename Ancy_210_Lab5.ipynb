{
 "cells": [
  {
   "cell_type": "markdown",
   "id": "724ce769",
   "metadata": {},
   "source": [
    "<center>LAB 5</center>"
   ]
  },
  {
   "cell_type": "markdown",
   "id": "f1600f42",
   "metadata": {},
   "source": [
    "<CENTER>2347210<CENTER>"
   ]
  },
  {
   "cell_type": "markdown",
   "id": "4737a154",
   "metadata": {},
   "source": [
    "<b>DOMAIN: </b> Netflix Movie Recommendation System"
   ]
  },
  {
   "cell_type": "markdown",
   "id": "038811c4",
   "metadata": {},
   "source": [
    "#  Write a program to handle the exception of ZeroDivisionError."
   ]
  },
  {
   "cell_type": "code",
   "execution_count": 26,
   "id": "ee0897dc",
   "metadata": {},
   "outputs": [
    {
     "name": "stdout",
     "output_type": "stream",
     "text": [
      "Enter divident: 23\n",
      "Enter divisor: 0\n",
      "Zero Division error.\n",
      " Exception is handled.\n"
     ]
    }
   ],
   "source": [
    "x=int(input(\"Enter divident: \"))\n",
    "y=int(input(\"Enter divisor: \"))\n",
    "\n",
    "try:\n",
    "    div=x/y\n",
    "except ZeroDivisionError:\n",
    "    print(\"Zero Division error.\\n Exception is handled.\")"
   ]
  },
  {
   "cell_type": "markdown",
   "id": "5a3a668a",
   "metadata": {},
   "source": [
    "# Write a program to handle the exception of IndexError."
   ]
  },
  {
   "cell_type": "code",
   "execution_count": 25,
   "id": "a1387258",
   "metadata": {},
   "outputs": [
    {
     "name": "stdout",
     "output_type": "stream",
     "text": [
      "Enter the movie number you want to watch: 3\n",
      "You selected: Oppenhiemer\n",
      "Are you settled? (y/n):y\n",
      "Thank you!\n"
     ]
    }
   ],
   "source": [
    "try:\n",
    "    movie_recommendations = [\"Inception\", \"Interstellar\", \"Oppenhiemer\"]\n",
    "    user_choice = int(input(\"Enter the movie number you want to watch: \"))\n",
    "    \n",
    "    if user_choice >= 1 and user_choice <= len(movie_recommendations):\n",
    "        selected_movie = movie_recommendations[user_choice - 1]\n",
    "        print(\"You selected:\", selected_movie)\n",
    "    else:\n",
    "        print(\"Invalid movie number!\")\n",
    "        \n",
    "except IndexError:\n",
    "    print(\"Invalid movie number!\")\n",
    "    \n",
    "except ValueError:\n",
    "    print(\"Invalid input! Please enter a number.\")\n",
    "\n",
    "finally:\n",
    "    x=input(\"Are you settled? (y/n):\")\n",
    "    if(x==\"y\"):\n",
    "        print(\"Thank you!\")\n",
    "    else:\n",
    "        print(\"Try again :)\")\n",
    "\n",
    "\n"
   ]
  }
 ],
 "metadata": {
  "kernelspec": {
   "display_name": "Python 3 (ipykernel)",
   "language": "python",
   "name": "python3"
  },
  "language_info": {
   "codemirror_mode": {
    "name": "ipython",
    "version": 3
   },
   "file_extension": ".py",
   "mimetype": "text/x-python",
   "name": "python",
   "nbconvert_exporter": "python",
   "pygments_lexer": "ipython3",
   "version": "3.9.13"
  },
  "toc": {
   "base_numbering": 1,
   "nav_menu": {},
   "number_sections": true,
   "sideBar": true,
   "skip_h1_title": false,
   "title_cell": "Table of Contents",
   "title_sidebar": "Contents",
   "toc_cell": false,
   "toc_position": {},
   "toc_section_display": true,
   "toc_window_display": false
  }
 },
 "nbformat": 4,
 "nbformat_minor": 5
}
